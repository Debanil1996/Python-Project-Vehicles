{
  "cells": [
    {
      "cell_type": "markdown",
      "metadata": {
        "colab_type": "text",
        "id": "view-in-github"
      },
      "source": [
        "<a href=\"https://colab.research.google.com/github/Debanil1996/Python-AI-Practice/blob/master/Numpy_practice.ipynb\" target=\"_parent\"><img src=\"https://colab.research.google.com/assets/colab-badge.svg\" alt=\"Open In Colab\"/></a>"
      ]
    },
    {
      "cell_type": "code",
      "execution_count": 1,
      "metadata": {
        "id": "TdO1DKFoFEBY"
      },
      "outputs": [],
      "source": [
        "import numpy as np\n",
        "import pandas as pd\n",
        "import sklearn as sk\n",
        "import matplotlib.pyplot as plt\n"
      ]
    },
    {
      "cell_type": "markdown",
      "metadata": {},
      "source": [
        "# Extracting Data\n",
        "#### VAMS (Vehicle Activation Management System)\n",
        "\n",
        "Here we have 3 csv files corresponding to the architecture [architecturelink](./Revised%20V1%20toV2%20Flow%20in%20Production-Activation%20Flow.jpg)\n",
        "\n",
        "1. VAMS Activation DataFile\n",
        "1. VAMS Movements DataFile\n",
        "1. VAMS Prospects DataFile\n",
        "1. VAMS Vehicles DataFile "
      ]
    },
    {
      "cell_type": "code",
      "execution_count": 2,
      "metadata": {},
      "outputs": [],
      "source": [
        "vehiclesdf = pd.read_csv('./vams.vehicleProd.csv',low_memory=False)\n",
        "prospectsdf = pd.read_csv('./vams.prospects.csv',low_memory=False)\n",
        "activationsdf = pd.read_csv('./vams.activations.csv',low_memory=False)\n",
        "movementsdf = pd.read_csv('./vams.activations.csv',low_memory=False)\n",
        "\n"
      ]
    },
    {
      "cell_type": "markdown",
      "metadata": {},
      "source": [
        "### Analysis of HP Days in Vehicles\n",
        "HP Days are also called Horse Power Days Which Determines the vehicles used had how much the vehicles have been used\n"
      ]
    },
    {
      "cell_type": "markdown",
      "metadata": {},
      "source": [
        "### Normal Distribution Graph"
      ]
    },
    {
      "cell_type": "code",
      "execution_count": 8,
      "metadata": {},
      "outputs": [
        {
          "data": {
            "image/png": "[encoded data removed]",
            "text/plain": [
              "<Figure size 640x480 with 1 Axes>"
            ]
          },
          "metadata": {},
          "output_type": "display_data"
        }
      ],
      "source": [
        "from scipy.stats import norm\n",
        "hpDays = np.array(vehiclesdf['hpDays'],dtype=int)\n",
        "axes = plt.axes()\n",
        "axes.grid()\n",
        "plt.plot(hpDays,norm.pdf(hpDays))\n",
        "plt.show()"
      ]
    }
  ],
  "metadata": {
    "colab": {
      "authorship_tag": "ABX9TyMNeK++oOSiLREcKKcMLYoV",
      "include_colab_link": true,
      "provenance": []
    },
    "kernelspec": {
      "display_name": "Python 3",
      "name": "python3"
    },
    "language_info": {
      "codemirror_mode": {
        "name": "ipython",
        "version": 3
      },
      "file_extension": ".py",
      "mimetype": "text/x-python",
      "name": "python",
      "nbconvert_exporter": "python",
      "pygments_lexer": "ipython3",
      "version": "3.8.8"
    }
  },
  "nbformat": 4,
  "nbformat_minor": 0
}
