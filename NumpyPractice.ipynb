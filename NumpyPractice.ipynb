{
  "nbformat": 4,
  "nbformat_minor": 0,
  "metadata": {
    "colab": {
      "provenance": [],
      "mount_file_id": "1zKeiR2kUE93iIIQx08Uf4c2b0Stwf0kb",
      "authorship_tag": "ABX9TyMXjHcAV/ZhAVO9gZ8gFgHZ",
      "include_colab_link": true
    },
    "kernelspec": {
      "name": "python3",
      "display_name": "Python 3"
    },
    "language_info": {
      "name": "python"
    }
  },
  "cells": [
    {
      "cell_type": "markdown",
      "metadata": {
        "id": "view-in-github",
        "colab_type": "text"
      },
      "source": [
        "<a href=\"https://colab.research.google.com/github/Debanil1996/Python-AI-Practice/blob/master/NumpyPractice.ipynb\" target=\"_parent\"><img src=\"https://colab.research.google.com/assets/colab-badge.svg\" alt=\"Open In Colab\"/></a>"
      ]
    },
    {
      "cell_type": "code",
      "execution_count": 1,
      "metadata": {
        "id": "W5GFMR9RareM"
      },
      "outputs": [],
      "source": [
        "import numpy as np\n",
        "x=np.array([[1,1],[2,2]])\n"
      ]
    },
    {
      "cell_type": "code",
      "source": [
        "x.sum(axis=0)"
      ],
      "metadata": {
        "colab": {
          "base_uri": "https://localhost:8080/"
        },
        "id": "gLRP0002c3Yw",
        "outputId": "b93c147f-6a3d-431d-9d74-b65b95671d21"
      },
      "execution_count": 2,
      "outputs": [
        {
          "output_type": "execute_result",
          "data": {
            "text/plain": [
              "array([3, 3])"
            ]
          },
          "metadata": {},
          "execution_count": 2
        }
      ]
    },
    {
      "cell_type": "code",
      "source": [
        "x.sum(axis=1) #Row wise sum"
      ],
      "metadata": {
        "colab": {
          "base_uri": "https://localhost:8080/"
        },
        "id": "5RVHq_vLdJT_",
        "outputId": "9a7c7893-1667-432b-c02b-aa62f9b4da4e"
      },
      "execution_count": 3,
      "outputs": [
        {
          "output_type": "execute_result",
          "data": {
            "text/plain": [
              "array([2, 4])"
            ]
          },
          "metadata": {},
          "execution_count": 3
        }
      ]
    },
    {
      "cell_type": "code",
      "source": [
        "arr = np.zeros([10,10])\n",
        "arr[2][2]=1\n",
        "np.any(arr != 0)"
      ],
      "metadata": {
        "colab": {
          "base_uri": "https://localhost:8080/"
        },
        "id": "kizu-d4Lolym",
        "outputId": "b90b68ef-74ee-41d4-892f-eb87814121e3"
      },
      "execution_count": 4,
      "outputs": [
        {
          "output_type": "execute_result",
          "data": {
            "text/plain": [
              "True"
            ]
          },
          "metadata": {},
          "execution_count": 4
        }
      ]
    },
    {
      "cell_type": "code",
      "source": [
        "x=np.array([1,2,3,4,5])\n",
        "y=np.array([[1,3,4,5],[6,7,8,9]])\n",
        "x.mean()"
      ],
      "metadata": {
        "id": "w0e-r1GO2Fzp",
        "colab": {
          "base_uri": "https://localhost:8080/"
        },
        "outputId": "7781140a-6dfa-4d07-dbd2-72ab1832fdee"
      },
      "execution_count": 5,
      "outputs": [
        {
          "output_type": "execute_result",
          "data": {
            "text/plain": [
              "3.0"
            ]
          },
          "metadata": {},
          "execution_count": 5
        }
      ]
    },
    {
      "cell_type": "code",
      "source": [
        "f1=np.array([1,2,3,4,5])\n",
        "f2=np.array([[1,5,7,8],[2,6,9,12]])\n",
        "f1.mean()"
      ],
      "metadata": {
        "colab": {
          "base_uri": "https://localhost:8080/"
        },
        "id": "qWoHzWh3nT_K",
        "outputId": "333fc64c-494d-4a2b-8b86-033e843602e6"
      },
      "execution_count": 6,
      "outputs": [
        {
          "output_type": "execute_result",
          "data": {
            "text/plain": [
              "3.0"
            ]
          },
          "metadata": {},
          "execution_count": 6
        }
      ]
    },
    {
      "cell_type": "code",
      "source": [
        "np.median(f1)"
      ],
      "metadata": {
        "colab": {
          "base_uri": "https://localhost:8080/"
        },
        "id": "yHE-uLqaX3dl",
        "outputId": "122f6085-b365-47dd-846a-12df332a0dbe"
      },
      "execution_count": 7,
      "outputs": [
        {
          "output_type": "execute_result",
          "data": {
            "text/plain": [
              "3.0"
            ]
          },
          "metadata": {},
          "execution_count": 7
        }
      ]
    },
    {
      "cell_type": "code",
      "source": [
        "np.median(f2,axis=0)"
      ],
      "metadata": {
        "colab": {
          "base_uri": "https://localhost:8080/"
        },
        "id": "CjOAxzSpYAiD",
        "outputId": "31b2dbfb-e8b1-457f-ecb3-3590fb267d8d"
      },
      "execution_count": 8,
      "outputs": [
        {
          "output_type": "execute_result",
          "data": {
            "text/plain": [
              "array([ 1.5,  5.5,  8. , 10. ])"
            ]
          },
          "metadata": {},
          "execution_count": 8
        }
      ]
    },
    {
      "cell_type": "code",
      "source": [
        "datas = np.loadtxt('populations.txt')\n",
        "datas"
      ],
      "metadata": {
        "colab": {
          "base_uri": "https://localhost:8080/"
        },
        "id": "iHc1WUvCzFx5",
        "outputId": "aa16c386-9442-45e3-e0bd-15bfccbba975"
      },
      "execution_count": 9,
      "outputs": [
        {
          "output_type": "execute_result",
          "data": {
            "text/plain": [
              "array([[ 1900., 30000.,  4000., 48300.],\n",
              "       [ 1901., 47200.,  6100., 48200.],\n",
              "       [ 1902., 70200.,  9800., 41500.],\n",
              "       [ 1903., 77400., 35200., 38200.],\n",
              "       [ 1904., 36300., 59400., 40600.],\n",
              "       [ 1905., 20600., 41700., 39800.],\n",
              "       [ 1906., 18100., 19000., 38600.],\n",
              "       [ 1907., 21400., 13000., 42300.],\n",
              "       [ 1908., 22000.,  8300., 44500.],\n",
              "       [ 1909., 25400.,  9100., 42100.],\n",
              "       [ 1910., 27100.,  7400., 46000.],\n",
              "       [ 1911., 40300.,  8000., 46800.],\n",
              "       [ 1912., 57000., 12300., 43800.],\n",
              "       [ 1913., 76600., 19500., 40900.],\n",
              "       [ 1914., 52300., 45700., 39400.],\n",
              "       [ 1915., 19500., 51100., 39000.],\n",
              "       [ 1916., 11200., 29700., 36700.],\n",
              "       [ 1917.,  7600., 15800., 41800.],\n",
              "       [ 1918., 14600.,  9700., 43300.],\n",
              "       [ 1919., 16200., 10100., 41300.],\n",
              "       [ 1920., 24700.,  8600., 47300.]])"
            ]
          },
          "metadata": {},
          "execution_count": 9
        }
      ]
    },
    {
      "cell_type": "code",
      "source": [
        "year,hares,lyncs,carrots=datas.T\n",
        "print(hares)"
      ],
      "metadata": {
        "colab": {
          "base_uri": "https://localhost:8080/"
        },
        "id": "C4nUDUoj09l1",
        "outputId": "f3788f23-f190-4fef-8536-958e31f1efc0"
      },
      "execution_count": 10,
      "outputs": [
        {
          "output_type": "stream",
          "name": "stdout",
          "text": [
            "[30000. 47200. 70200. 77400. 36300. 20600. 18100. 21400. 22000. 25400.\n",
            " 27100. 40300. 57000. 76600. 52300. 19500. 11200.  7600. 14600. 16200.\n",
            " 24700.]\n"
          ]
        }
      ]
    },
    {
      "cell_type": "code",
      "source": [
        "populations=datas[:,:1]\n"
      ],
      "metadata": {
        "id": "onybe1rxclZz"
      },
      "execution_count": 11,
      "outputs": []
    },
    {
      "cell_type": "code",
      "source": [
        "populations.std(axis=0)"
      ],
      "metadata": {
        "colab": {
          "base_uri": "https://localhost:8080/"
        },
        "id": "g-w8LIWciZH2",
        "outputId": "8893ff6d-c154-4bf5-a064-c2ecbdd02584"
      },
      "execution_count": 12,
      "outputs": [
        {
          "output_type": "execute_result",
          "data": {
            "text/plain": [
              "array([6.05530071])"
            ]
          },
          "metadata": {},
          "execution_count": 12
        }
      ]
    },
    {
      "cell_type": "code",
      "source": [
        "np.argmax(populations,axis=1)"
      ],
      "metadata": {
        "colab": {
          "base_uri": "https://localhost:8080/"
        },
        "id": "dxD-m7Si4bB1",
        "outputId": "5e3a1c51-6597-4738-b5b6-2ceb35b30167"
      },
      "execution_count": 13,
      "outputs": [
        {
          "output_type": "execute_result",
          "data": {
            "text/plain": [
              "array([0, 0, 0, 0, 0, 0, 0, 0, 0, 0, 0, 0, 0, 0, 0, 0, 0, 0, 0, 0, 0])"
            ]
          },
          "metadata": {},
          "execution_count": 13
        }
      ]
    },
    {
      "cell_type": "code",
      "source": [
        "a1= np.tile(np.arange(0,40,10),(3,1))\n",
        "a1=a1.T\n",
        "print(a1)"
      ],
      "metadata": {
        "colab": {
          "base_uri": "https://localhost:8080/"
        },
        "id": "jiZfuX0kY5ue",
        "outputId": "8cf03348-189c-4f12-9ecf-3ec7f172d08c"
      },
      "execution_count": 14,
      "outputs": [
        {
          "output_type": "stream",
          "name": "stdout",
          "text": [
            "[[ 0  0  0]\n",
            " [10 10 10]\n",
            " [20 20 20]\n",
            " [30 30 30]]\n"
          ]
        }
      ]
    },
    {
      "cell_type": "code",
      "source": [
        "b1= a1.ravel()\n",
        "print(b1)"
      ],
      "metadata": {
        "id": "7WOJIkCKEGVN",
        "colab": {
          "base_uri": "https://localhost:8080/"
        },
        "outputId": "8bf0ea16-5b0c-4a13-e2ad-b01b946f6031"
      },
      "execution_count": 15,
      "outputs": [
        {
          "output_type": "stream",
          "name": "stdout",
          "text": [
            "[ 0  0  0 10 10 10 20 20 20 30 30 30]\n"
          ]
        }
      ]
    },
    {
      "cell_type": "code",
      "source": [
        "ar=np.arange(5)\n",
        "ar.resize(8,)\n",
        "print(ar)"
      ],
      "metadata": {
        "colab": {
          "base_uri": "https://localhost:8080/"
        },
        "id": "Ne2zTMr7gBTM",
        "outputId": "23dc42e2-92d6-4021-c047-3d5c8d43a7dd"
      },
      "execution_count": 16,
      "outputs": [
        {
          "output_type": "stream",
          "name": "stdout",
          "text": [
            "[0 1 2 3 4 0 0 0]\n"
          ]
        }
      ]
    },
    {
      "cell_type": "code",
      "source": [
        "# br=ar\n",
        "findx = np.array([10,9,13,8,6,7,5,4,3,1,2,12])\n",
        "jt=np.argsort(findx)\n",
        "print(jt)"
      ],
      "metadata": {
        "colab": {
          "base_uri": "https://localhost:8080/"
        },
        "id": "kXMG4mNLgNb8",
        "outputId": "e4f7e420-3061-4676-9550-e8379a310feb"
      },
      "execution_count": 19,
      "outputs": [
        {
          "output_type": "stream",
          "name": "stdout",
          "text": [
            "[ 9 10  8  7  6  4  5  3  1  0 11  2]\n"
          ]
        }
      ]
    }
  ]
}