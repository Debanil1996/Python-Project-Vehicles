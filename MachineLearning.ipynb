{
 "cells": [
  {
   "cell_type": "code",
   "execution_count": 82,
   "metadata": {},
   "outputs": [
    {
     "name": "stdout",
     "output_type": "stream",
     "text": [
      "Requirement already satisfied: import_ipynb in /Users/debanilguha/opt/anaconda3/lib/python3.8/site-packages (0.1.4)\n",
      "Requirement already satisfied: nbformat in /Users/debanilguha/opt/anaconda3/lib/python3.8/site-packages (from import_ipynb) (5.7.0)\n",
      "Requirement already satisfied: IPython in /Users/debanilguha/opt/anaconda3/lib/python3.8/site-packages (from import_ipynb) (8.5.0)\n",
      "Requirement already satisfied: pickleshare in /Users/debanilguha/opt/anaconda3/lib/python3.8/site-packages (from IPython->import_ipynb) (0.7.5)\n",
      "Requirement already satisfied: prompt-toolkit<3.1.0,>3.0.1 in /Users/debanilguha/opt/anaconda3/lib/python3.8/site-packages (from IPython->import_ipynb) (3.0.36)\n",
      "Requirement already satisfied: pexpect>4.3 in /Users/debanilguha/opt/anaconda3/lib/python3.8/site-packages (from IPython->import_ipynb) (4.8.0)\n",
      "Requirement already satisfied: decorator in /Users/debanilguha/opt/anaconda3/lib/python3.8/site-packages (from IPython->import_ipynb) (5.1.1)\n",
      "Requirement already satisfied: stack-data in /Users/debanilguha/opt/anaconda3/lib/python3.8/site-packages (from IPython->import_ipynb) (0.5.1)\n",
      "Requirement already satisfied: appnope in /Users/debanilguha/opt/anaconda3/lib/python3.8/site-packages (from IPython->import_ipynb) (0.1.2)\n",
      "Requirement already satisfied: traitlets>=5 in /Users/debanilguha/opt/anaconda3/lib/python3.8/site-packages (from IPython->import_ipynb) (5.7.1)\n",
      "Requirement already satisfied: backcall in /Users/debanilguha/opt/anaconda3/lib/python3.8/site-packages (from IPython->import_ipynb) (0.2.0)\n",
      "Requirement already satisfied: pygments>=2.4.0 in /Users/debanilguha/opt/anaconda3/lib/python3.8/site-packages (from IPython->import_ipynb) (2.11.2)\n",
      "Requirement already satisfied: matplotlib-inline in /Users/debanilguha/opt/anaconda3/lib/python3.8/site-packages (from IPython->import_ipynb) (0.1.6)\n",
      "Requirement already satisfied: jedi>=0.16 in /Users/debanilguha/opt/anaconda3/lib/python3.8/site-packages (from IPython->import_ipynb) (0.18.1)\n",
      "Requirement already satisfied: jupyter-core in /Users/debanilguha/opt/anaconda3/lib/python3.8/site-packages (from nbformat->import_ipynb) (5.1.1)\n",
      "Requirement already satisfied: jsonschema>=2.6 in /Users/debanilguha/opt/anaconda3/lib/python3.8/site-packages (from nbformat->import_ipynb) (4.16.0)\n",
      "Requirement already satisfied: fastjsonschema in /Users/debanilguha/opt/anaconda3/lib/python3.8/site-packages (from nbformat->import_ipynb) (2.16.2)\n",
      "Requirement already satisfied: parso<0.9.0,>=0.8.0 in /Users/debanilguha/opt/anaconda3/lib/python3.8/site-packages (from jedi>=0.16->IPython->import_ipynb) (0.8.3)\n",
      "Requirement already satisfied: pkgutil-resolve-name>=1.3.10 in /Users/debanilguha/opt/anaconda3/lib/python3.8/site-packages (from jsonschema>=2.6->nbformat->import_ipynb) (1.3.10)\n",
      "Requirement already satisfied: attrs>=17.4.0 in /Users/debanilguha/opt/anaconda3/lib/python3.8/site-packages (from jsonschema>=2.6->nbformat->import_ipynb) (22.1.0)\n",
      "Requirement already satisfied: pyrsistent!=0.17.0,!=0.17.1,!=0.17.2,>=0.14.0 in /Users/debanilguha/opt/anaconda3/lib/python3.8/site-packages (from jsonschema>=2.6->nbformat->import_ipynb) (0.18.0)\n",
      "Requirement already satisfied: importlib-resources>=1.4.0 in /Users/debanilguha/opt/anaconda3/lib/python3.8/site-packages (from jsonschema>=2.6->nbformat->import_ipynb) (5.2.0)\n",
      "Requirement already satisfied: ptyprocess>=0.5 in /Users/debanilguha/opt/anaconda3/lib/python3.8/site-packages (from pexpect>4.3->IPython->import_ipynb) (0.7.0)\n",
      "Requirement already satisfied: wcwidth in /Users/debanilguha/opt/anaconda3/lib/python3.8/site-packages (from prompt-toolkit<3.1.0,>3.0.1->IPython->import_ipynb) (0.2.5)\n",
      "Requirement already satisfied: platformdirs>=2.5 in /Users/debanilguha/opt/anaconda3/lib/python3.8/site-packages (from jupyter-core->nbformat->import_ipynb) (2.5.2)\n",
      "Requirement already satisfied: asttokens in /Users/debanilguha/opt/anaconda3/lib/python3.8/site-packages (from stack-data->IPython->import_ipynb) (2.0.8)\n",
      "Requirement already satisfied: executing in /Users/debanilguha/opt/anaconda3/lib/python3.8/site-packages (from stack-data->IPython->import_ipynb) (1.1.1)\n",
      "Requirement already satisfied: pure-eval in /Users/debanilguha/opt/anaconda3/lib/python3.8/site-packages (from stack-data->IPython->import_ipynb) (0.2.2)\n",
      "Requirement already satisfied: zipp>=3.1.0 in /Users/debanilguha/opt/anaconda3/lib/python3.8/site-packages (from importlib-resources>=1.4.0->jsonschema>=2.6->nbformat->import_ipynb) (3.11.0)\n",
      "Requirement already satisfied: six in /Users/debanilguha/opt/anaconda3/lib/python3.8/site-packages (from asttokens->stack-data->IPython->import_ipynb) (1.16.0)\n"
     ]
    }
   ],
   "source": [
    "!pip3 install import_ipynb"
   ]
  },
  {
   "cell_type": "code",
   "execution_count": 83,
   "metadata": {},
   "outputs": [],
   "source": [
    "import import_ipynb\n",
    "import numpy as np\n",
    "import pandas as pd\n",
    "import dataScience as ds"
   ]
  },
  {
   "cell_type": "code",
   "execution_count": 84,
   "metadata": {},
   "outputs": [],
   "source": [
    "def normalize(V,maxV,minV):\n",
    "    if V==0:\n",
    "        return V\n",
    "    normalized_V = (V - minV) / (maxV - minV)\n",
    "    \n",
    "    return normalized_V"
   ]
  },
  {
   "cell_type": "code",
   "execution_count": 85,
   "metadata": {},
   "outputs": [],
   "source": [
    "def createClusteredData(X:list,Y:list):\n",
    "    newArr = []\n",
    "    for index,value in enumerate(X):\n",
    "        newArr.append([normalize(X[index],np.max(X),np.min(X)),normalize(Y[index],np.max(Y),np.min(Y))])\n",
    "    return newArr\n",
    "\n"
   ]
  },
  {
   "cell_type": "markdown",
   "metadata": {},
   "source": [
    "## Using K Means Clustering Algorithm\n",
    "\n"
   ]
  },
  {
   "cell_type": "code",
   "execution_count": 101,
   "metadata": {},
   "outputs": [
    {
     "name": "stdout",
     "output_type": "stream",
     "text": [
      "==>> dataForClustering.shape:  [0. 0. 0. ... 1. 1. 1.] [[0.         0.        ]\n",
      " [0.         0.        ]\n",
      " [0.         0.        ]\n",
      " ...\n",
      " [1.         0.4745098 ]\n",
      " [1.         0.48039216]\n",
      " [1.         1.        ]]\n"
     ]
    },
    {
     "data": {
      "image/png": "[encoded data removed]",
      "text/plain": [
       "<Figure size 800x600 with 1 Axes>"
      ]
     },
     "metadata": {},
     "output_type": "display_data"
    }
   ],
   "source": [
    "from sklearn.cluster import KMeans\n",
    "import matplotlib.pyplot as plt\n",
    "from sklearn.preprocessing import scale\n",
    "dataForClustering = np.array(createClusteredData(sorted(ds.expectedPayment), sorted(ds.paymentDoneByChampion)))\n",
    "print(f\"==>> dataForClustering.shape: \",dataForClustering[:,0],dataForClustering)\n",
    "\n",
    "\n",
    "model = KMeans(n_clusters=3)\n",
    "\n",
    "model = model.fit(dataForClustering)\n",
    "\n",
    "plt.figure(figsize=(8, 6))\n",
    "\n",
    "plt.scatter(dataForClustering[:,0], dataForClustering[:,1], c=model.labels_.astype(float),alpha=0.9)\n",
    "plt.show()\n"
   ]
  },
  {
   "cell_type": "markdown",
   "metadata": {},
   "source": [
    "## Real World Clustering on Active Project\n",
    "\n",
    "Here this is an example of Clustering of Data in a real life scenario where Datas are clustered Together to give the Kmeans value . This is the scattered plot for Payment Done by the Champion verses Payment to be done on a daily basis"
   ]
  }
 ],
 "metadata": {
  "kernelspec": {
   "display_name": "base",
   "language": "python",
   "name": "python3"
  },
  "language_info": {
   "codemirror_mode": {
    "name": "ipython",
    "version": 3
   },
   "file_extension": ".py",
   "mimetype": "text/x-python",
   "name": "python",
   "nbconvert_exporter": "python",
   "pygments_lexer": "ipython3",
   "version": "3.8.8"
  }
 },
 "nbformat": 4,
 "nbformat_minor": 2
}
